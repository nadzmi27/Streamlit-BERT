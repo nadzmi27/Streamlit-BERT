{
 "cells": [
  {
   "cell_type": "markdown",
   "id": "dd3c9b92-58d7-4e9a-91e7-da0ed8dcf046",
   "metadata": {},
   "source": [
    "## 1. Import Dependencies"
   ]
  },
  {
   "cell_type": "code",
   "execution_count": 1,
   "id": "ad9f75df-3f9b-4f99-b647-75a590d19f24",
   "metadata": {},
   "outputs": [],
   "source": [
    "from transformers import AutoTokenizer, AutoModelForSequenceClassification\n",
    "import torch\n",
    "import requests\n",
    "from bs4 import BeautifulSoup\n",
    "import re\n",
    "import pandas as pd\n",
    "import numpy as np"
   ]
  },
  {
   "cell_type": "markdown",
   "id": "cc40c20b-d7b9-469a-a540-db5819f3388b",
   "metadata": {},
   "source": [
    "## 2. Instantiae Model"
   ]
  },
  {
   "cell_type": "code",
   "execution_count": 2,
   "id": "465b7c35-bee9-4647-8418-b9a25bde31f9",
   "metadata": {},
   "outputs": [],
   "source": [
    "tokenizer = AutoTokenizer.from_pretrained('nlptown/bert-base-multilingual-uncased-sentiment')\n",
    "\n",
    "model = AutoModelForSequenceClassification.from_pretrained('nlptown/bert-base-multilingual-uncased-sentiment')"
   ]
  },
  {
   "cell_type": "markdown",
   "id": "a40bd706-7d9a-4b1b-a3df-19f72af72950",
   "metadata": {},
   "source": [
    "## 3. Encode and Calculate Sentiment"
   ]
  },
  {
   "cell_type": "code",
   "execution_count": 7,
   "id": "cc27ac24-13ec-4c38-8be8-0f52d0413973",
   "metadata": {},
   "outputs": [
    {
     "data": {
      "text/plain": [
       "tensor([[  101, 11463, 11153, 11221, 10127, 12145, 75520,   106,   151, 11157,\n",
       "         10114, 39999, 64916,   102]])"
      ]
     },
     "execution_count": 7,
     "metadata": {},
     "output_type": "execute_result"
    }
   ],
   "source": [
    "example = \"Hi my name is nadzmi! I love to eat banana\"\n",
    "tokens = tokenizer.encode(example, return_tensors='pt')\n",
    "tokens"
   ]
  },
  {
   "cell_type": "code",
   "execution_count": 8,
   "id": "71f0b815-e2eb-4b06-8eaf-934b146d5184",
   "metadata": {},
   "outputs": [
    {
     "data": {
      "text/plain": [
       "'[CLS] hi my name is nadzmi! i love to eat banana [SEP]'"
      ]
     },
     "execution_count": 8,
     "metadata": {},
     "output_type": "execute_result"
    }
   ],
   "source": [
    "tokenizer.decode(tokens[0])"
   ]
  },
  {
   "cell_type": "code",
   "execution_count": 9,
   "id": "49ea456f-69f6-4a53-862b-399a91d8e407",
   "metadata": {},
   "outputs": [
    {
     "data": {
      "text/plain": [
       "SequenceClassifierOutput(loss=None, logits=tensor([[-0.9407, -1.4766, -0.5453,  0.6227,  1.9150]],\n",
       "       grad_fn=<AddmmBackward0>), hidden_states=None, attentions=None)"
      ]
     },
     "execution_count": 9,
     "metadata": {},
     "output_type": "execute_result"
    }
   ],
   "source": [
    "result = model(tokens)\n",
    "result"
   ]
  },
  {
   "cell_type": "code",
   "execution_count": 10,
   "id": "baec952e-1bc1-426a-9f5a-af68dbbfa245",
   "metadata": {},
   "outputs": [
    {
     "data": {
      "text/plain": [
       "tensor(5)"
      ]
     },
     "execution_count": 10,
     "metadata": {},
     "output_type": "execute_result"
    }
   ],
   "source": [
    "torch.argmax(result.logits) + 1 # Rating from 1 to 5"
   ]
  },
  {
   "cell_type": "code",
   "execution_count": 11,
   "id": "64da1f50-4837-4cb4-b37b-a903a751a4e9",
   "metadata": {},
   "outputs": [
    {
     "data": {
      "text/plain": [
       "tensor(5)"
      ]
     },
     "execution_count": 11,
     "metadata": {},
     "output_type": "execute_result"
    }
   ],
   "source": [
    "# Try with positive sentiment\n",
    "tokens = tokenizer.encode(\"She is as pretty as the moon!\", return_tensors='pt')\n",
    "result = model(tokens)\n",
    "torch.argmax(result.logits) + 1"
   ]
  },
  {
   "cell_type": "code",
   "execution_count": 12,
   "id": "8b3441cd-d99c-4e7a-bf03-fe5f1bcd4aaa",
   "metadata": {},
   "outputs": [
    {
     "data": {
      "text/plain": [
       "tensor(3)"
      ]
     },
     "execution_count": 12,
     "metadata": {},
     "output_type": "execute_result"
    }
   ],
   "source": [
    "# Try with neutral sentiment\n",
    "tokens = tokenizer.encode(\"It is meh\", return_tensors='pt')\n",
    "result = model(tokens)\n",
    "torch.argmax(result.logits) + 1"
   ]
  },
  {
   "cell_type": "code",
   "execution_count": 13,
   "id": "17cc0dcb",
   "metadata": {},
   "outputs": [
    {
     "data": {
      "text/plain": [
       "tensor(1)"
      ]
     },
     "execution_count": 13,
     "metadata": {},
     "output_type": "execute_result"
    }
   ],
   "source": [
    "# Try with negative sentiment\n",
    "tokens = tokenizer.encode(\"The product is terrible\", return_tensors='pt')\n",
    "result = model(tokens)\n",
    "torch.argmax(result.logits) + 1"
   ]
  },
  {
   "cell_type": "markdown",
   "id": "4a71ef7b-bf9b-4b02-9f88-8a0b12bf9360",
   "metadata": {},
   "source": [
    "## 4. Collect Reviews"
   ]
  },
  {
   "cell_type": "code",
   "execution_count": 14,
   "id": "2263afaa",
   "metadata": {},
   "outputs": [],
   "source": [
    "url = 'https://www.yelp.com/biz/pepper-lunch-melbourne'\n",
    "r = requests.get(url)\n",
    "soup = BeautifulSoup(r.text, 'html.parser')\n",
    "regex = re.compile(\"comment\")\n",
    "results = soup.find_all('p', {\"class\":regex})\n",
    "reviews = [result.text for result in results]"
   ]
  },
  {
   "attachments": {},
   "cell_type": "markdown",
   "id": "957b7acc-7067-46b6-a811-e67f030556fc",
   "metadata": {},
   "source": [
    "## 5. Load Reviews into DataFrame"
   ]
  },
  {
   "cell_type": "code",
   "execution_count": 15,
   "id": "ee8d0a49-c7cb-4ed3-b3d6-0b951612fe1a",
   "metadata": {},
   "outputs": [
    {
     "data": {
      "text/plain": [
       "['I was walking past and I was thirsty so I stopped in to grab a bottle of water. And then that is when I smelt the delicious smell of steak. I had a look around and then I realised that you could cook it yourself. So instantly I sat down and ordered. I had the wagyu steak and it was great. Of course I had a side of chips with it.Everything about this meal was amazing good price as well. Thanks Pepper Lunch!',\n",
       " \"3.5 stars!A chain of Japanese restaurants specializing in rice and pasta dishes on iron plates, Pepper Lunch is a casual, quick, and efficient place to try out this unique dish. At this location, there's a self-ordering machine, where you simply grab a number, scan it in, and select the items you want on the screen. Then you grab a seat, and everything is brought out! On my visit, I tried the pepper rice plate with seafood, which came with salmon, scallops, and shrimp surrounding a mound of rice with pepper, scallions, and corn. You press the rice down into the plate and wait for it to crisp up and all the other ingredients to cook through. Then, you can help yourself to any of the sauces at the table. The rice had a nice peppery flavor, and this was a decent hot meal, though perhaps nothing all that special for the price.\",\n",
       " \"I like Pepper Lunch because it reminds me of good times with good friends when I visit Asia so, when I found this while I was on vacation in Australia, I had to eat here even though I just ate. There's always that little bit of stomach space left.Any meat and veggie served on a sizzling plate tastes better to me. I'm a sensory type of eater and not only do I like to see, smell, and taste my food, I like to hear my food sizzling too.I've tried the salmon, teriyaki beef, ribeye and wagyu with rice and veggies. I don't normally like to eat rice but I like the taste of rice when meat juices touch it. Mmmmmm...meat juices. Tender and tasty meat.It's a very casual place. In Asia, Pepper Lunch is rather cheap but in Australia, they charge noticeably more. $30 for Pepper Lunch? Whaaaat??? They have have delicious bottled jasmine green tea.\",\n",
       " \"Came here on a Thursday night around 9pm and it was still packed. This place makes you smell like the smoke. Got the beef pepper plus an egg since it was first time here. Gf got the beef steak plus an egg.1. Beef pepper - very hot, steamy, cooking while still half raw when it comes out. The seasoning on top of the rice is salty but the pepper is good. Not much meat around the huge mound of rice but it's ok for the $10.50 it costs. I enjoyed how the hot iron plate makes the rice solid at the edges.2. Beef steak - disappointing. It came in a regular bowl with no iron or sizzle. Beef was cold and there was just sauce on top of it for flavor. The egg was boiled and cold as well. Don't get this!Overall I'd pass to try other restaurants in the area but if you want a solid cheap lunch, go for it.\",\n",
       " \"Thinking of quick but hearty lunch along Melbourne Central vicinity? I suggest trying the food at Pepper Lunch.Their hot meals are good. Although I felt that their combo-meals are a bit costly - around $20 for 2 meat-deal, with drink and side dish. But their stand-alone meals are around $14. I tried the chicken and burger meal combo with sweet potato as side dish. It was served on a hot sizzling plate. Allow the meat to cook a bit more while flipping them over once. Do not eat them straight away as they're so hot. In opinion the taste is decent and amount of serving is more than enough. 3 stars for me.\",\n",
       " 'Pepper Lunch is all about that sizzle, bout that sizzle, no silence!FOOD - I came by twice during my stay in Melbourne and got the Beef Pepper Rice both times. Solid choice if you have never been before. Don\\'t be surprised when the food comes and it\\'s $izzling h0t! Snap yo pics, grab your utensils, and cook that meat! Then enjoy. You earned it after that one minute workout.AMBIANCE - There\\'s plenty of seating so that\\'s a plus. It is a \"nice fast food\" type of place so not much charm, but for a cheap and filling meal in the city I\\'m not complaining!Originally I thought Pepper Lunch only existed in Australia but I was wrong. Turns out they are in more countries and when it comes to USA... well I live not too far from the only one! #win.P.S. Don\\'t wear anything tooo cute here. It\\'ll smell later.',\n",
       " \"If you're after a quick, efficient and tasty meal then by all means come here! It's basically a fast food Japanese fried rice sizzling restaurant lol.Service is quick, meal deals are cheap. And it's full of flavor. There's 2 sauces and a bunch of seasonings on the table to use. Please use them! Really enhances the flavor of the dish!I've come here many times when I feel like a rice hit - always have gotten the pepper prawn - can't go wrong! So the way to eat this is they will bring our a sizzling hot plate with your rice and sides surrounding the rice. Mix your stuff around a bit, then flavor to your liking with the seasonings offered on the table. Then hoover away.So yum!\",\n",
       " \"I went here for dinner with my partner on a Sunday evening! The place was packed, but there was not a wait for the food. I ordered the Beef & Hamburg Sizzling Curry, with a side of Onion rings and the Apple Mint drink... all were delicious! The portion was not overwhelming and the curry sauce was not too curry and tasted delicious! All the staff were very friendly and helpful. It was my first time at Pepper Lunch and I'll definitely return, and would recommend people to try this.\",\n",
       " \"Today was my first visit here, so I didn't know what to expect - but it was recommended by friends so I was sure it'd be OK, and besides what else would there be to expect other than that?I gave it 4 stars - so the service was good: friendly and quick in taking orders, and very quick in getting the food out. The place was clean and nicely presented, with self-serve tap water in two large dispensers. All the usual good stuff...But... When the food came out I wasn't expecting to see it served the way it was - an extremely hot sizzling dish with the meat literally cooking right in front of me! It was great! Well, for me at least as I'd not seen anything like this before in a Japanese / Asian restaurant - especially one targeting the lunchtime trade.After leaving my dish to cook a little for a few minutes (I had beef kimchi), I mixed up the beef, rice and veggies and tucked it. It was lovely! I particularly enjoyed the caramelised crispy bits on the still tender meat, and the way that the base of the rice had gone crispy but not burnt.Now I know it's there, I'll be going back as it was also good value for money.One point to note that it was very loud - partly because it was busy, but the scraping of chairs seemed to echo and be amplified by the interior space. So don't go there for a place to have lunch meetings or somewhere intimate...\",\n",
       " 'Pepper lunch is so good. The beef pepper lunch was delicious and so fun to cook. It tasted delicious and was such a nice price. I will be back']"
      ]
     },
     "execution_count": 15,
     "metadata": {},
     "output_type": "execute_result"
    }
   ],
   "source": [
    "reviews"
   ]
  },
  {
   "cell_type": "code",
   "execution_count": 16,
   "id": "eec4edc0",
   "metadata": {},
   "outputs": [],
   "source": [
    "df = pd.DataFrame(np.array(reviews), columns=['review'])"
   ]
  },
  {
   "cell_type": "code",
   "execution_count": 19,
   "id": "9ac72df1",
   "metadata": {},
   "outputs": [],
   "source": [
    "def predict_review(review):\n",
    "    tokens = tokenizer.encode(review, return_tensors='pt')\n",
    "    result = model(tokens)\n",
    "    return int(torch.argmax(result.logits) + 1)"
   ]
  },
  {
   "cell_type": "code",
   "execution_count": 20,
   "id": "4e17f4f1",
   "metadata": {},
   "outputs": [],
   "source": [
    "df['sentiment'] = df['review'].apply(lambda x: predict_review(x[:512])) #512 tokens limit"
   ]
  },
  {
   "cell_type": "code",
   "execution_count": 21,
   "id": "91cb2200",
   "metadata": {},
   "outputs": [
    {
     "data": {
      "text/html": [
       "<div>\n",
       "<style scoped>\n",
       "    .dataframe tbody tr th:only-of-type {\n",
       "        vertical-align: middle;\n",
       "    }\n",
       "\n",
       "    .dataframe tbody tr th {\n",
       "        vertical-align: top;\n",
       "    }\n",
       "\n",
       "    .dataframe thead th {\n",
       "        text-align: right;\n",
       "    }\n",
       "</style>\n",
       "<table border=\"1\" class=\"dataframe\">\n",
       "  <thead>\n",
       "    <tr style=\"text-align: right;\">\n",
       "      <th></th>\n",
       "      <th>review</th>\n",
       "      <th>sentiment</th>\n",
       "    </tr>\n",
       "  </thead>\n",
       "  <tbody>\n",
       "    <tr>\n",
       "      <th>0</th>\n",
       "      <td>I was walking past and I was thirsty so I stop...</td>\n",
       "      <td>5</td>\n",
       "    </tr>\n",
       "    <tr>\n",
       "      <th>1</th>\n",
       "      <td>3.5 stars!A chain of Japanese restaurants spec...</td>\n",
       "      <td>3</td>\n",
       "    </tr>\n",
       "    <tr>\n",
       "      <th>2</th>\n",
       "      <td>I like Pepper Lunch because it reminds me of g...</td>\n",
       "      <td>4</td>\n",
       "    </tr>\n",
       "    <tr>\n",
       "      <th>3</th>\n",
       "      <td>Came here on a Thursday night around 9pm and i...</td>\n",
       "      <td>4</td>\n",
       "    </tr>\n",
       "    <tr>\n",
       "      <th>4</th>\n",
       "      <td>Thinking of quick but hearty lunch along Melbo...</td>\n",
       "      <td>3</td>\n",
       "    </tr>\n",
       "    <tr>\n",
       "      <th>5</th>\n",
       "      <td>Pepper Lunch is all about that sizzle, bout th...</td>\n",
       "      <td>4</td>\n",
       "    </tr>\n",
       "    <tr>\n",
       "      <th>6</th>\n",
       "      <td>If you're after a quick, efficient and tasty m...</td>\n",
       "      <td>5</td>\n",
       "    </tr>\n",
       "    <tr>\n",
       "      <th>7</th>\n",
       "      <td>I went here for dinner with my partner on a Su...</td>\n",
       "      <td>5</td>\n",
       "    </tr>\n",
       "    <tr>\n",
       "      <th>8</th>\n",
       "      <td>Today was my first visit here, so I didn't kno...</td>\n",
       "      <td>4</td>\n",
       "    </tr>\n",
       "    <tr>\n",
       "      <th>9</th>\n",
       "      <td>Pepper lunch is so good. The beef pepper lunch...</td>\n",
       "      <td>5</td>\n",
       "    </tr>\n",
       "  </tbody>\n",
       "</table>\n",
       "</div>"
      ],
      "text/plain": [
       "                                              review  sentiment\n",
       "0  I was walking past and I was thirsty so I stop...          5\n",
       "1  3.5 stars!A chain of Japanese restaurants spec...          3\n",
       "2  I like Pepper Lunch because it reminds me of g...          4\n",
       "3  Came here on a Thursday night around 9pm and i...          4\n",
       "4  Thinking of quick but hearty lunch along Melbo...          3\n",
       "5  Pepper Lunch is all about that sizzle, bout th...          4\n",
       "6  If you're after a quick, efficient and tasty m...          5\n",
       "7  I went here for dinner with my partner on a Su...          5\n",
       "8  Today was my first visit here, so I didn't kno...          4\n",
       "9  Pepper lunch is so good. The beef pepper lunch...          5"
      ]
     },
     "execution_count": 21,
     "metadata": {},
     "output_type": "execute_result"
    }
   ],
   "source": [
    "df"
   ]
  },
  {
   "attachments": {},
   "cell_type": "markdown",
   "id": "17242043",
   "metadata": {},
   "source": [
    "## 6. Pipeline"
   ]
  },
  {
   "cell_type": "code",
   "execution_count": 22,
   "id": "14f884c8",
   "metadata": {},
   "outputs": [],
   "source": [
    "def collect_reviews(url, css_selector):\n",
    "    r = requests.get(url)\n",
    "    soup = BeautifulSoup(r.text, 'html.parser')\n",
    "    regex = re.compile(css_selector)\n",
    "    results = soup.find_all('p', {\"class\":regex})\n",
    "    reviews = [result.text for result in results]\n",
    "    return reviews\n",
    "\n",
    "def predict_reviews(urls, css_selector):\n",
    "    if isinstance(urls, str): #If it's a single url\n",
    "        urls = [urls] \n",
    "    \n",
    "    reviews = []\n",
    "    for url in urls:\n",
    "        reviews += collect_reviews(url, css_selector)\n",
    "\n",
    "    df = pd.DataFrame(np.array(reviews), columns=['review'])\n",
    "    df['sentiment'] = df['review'].apply(lambda x: predict_review(x[:512])) #512 tokens limit\n",
    "\n",
    "    return df"
   ]
  },
  {
   "cell_type": "code",
   "execution_count": null,
   "id": "e0ce5333",
   "metadata": {},
   "outputs": [],
   "source": []
  }
 ],
 "metadata": {
  "kernelspec": {
   "display_name": "base",
   "language": "python",
   "name": "python3"
  },
  "language_info": {
   "codemirror_mode": {
    "name": "ipython",
    "version": 3
   },
   "file_extension": ".py",
   "mimetype": "text/x-python",
   "name": "python",
   "nbconvert_exporter": "python",
   "pygments_lexer": "ipython3",
   "version": "3.9.13"
  },
  "vscode": {
   "interpreter": {
    "hash": "d9700d5613caee8b502de6140995b5d1ce374fcb450291513a1c264b30dc706b"
   }
  }
 },
 "nbformat": 4,
 "nbformat_minor": 5
}
