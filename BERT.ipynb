{
 "cells": [
  {
   "cell_type": "markdown",
   "id": "dd3c9b92-58d7-4e9a-91e7-da0ed8dcf046",
   "metadata": {},
   "source": [
    "## 1. Import Dependencies"
   ]
  },
  {
   "cell_type": "code",
   "execution_count": 2,
   "id": "ad9f75df-3f9b-4f99-b647-75a590d19f24",
   "metadata": {},
   "outputs": [],
   "source": [
    "from transformers import AutoTokenizer, AutoModelForSequenceClassification\n",
    "import torch\n",
    "import requests\n",
    "from bs4 import BeautifulSoup\n",
    "import re"
   ]
  },
  {
   "cell_type": "markdown",
   "id": "cc40c20b-d7b9-469a-a540-db5819f3388b",
   "metadata": {},
   "source": [
    "## 2. Instantiae Model"
   ]
  },
  {
   "cell_type": "code",
   "execution_count": 5,
   "id": "465b7c35-bee9-4647-8418-b9a25bde31f9",
   "metadata": {},
   "outputs": [],
   "source": [
    "tokenizer = AutoTokenizer.from_pretrained('nlptown/bert-base-multilingual-uncased-sentiment')\n",
    "\n",
    "model = AutoModelForSequenceClassification.from_pretrained('nlptown/bert-base-multilingual-uncased-sentiment')"
   ]
  },
  {
   "cell_type": "markdown",
   "id": "a40bd706-7d9a-4b1b-a3df-19f72af72950",
   "metadata": {},
   "source": [
    "## 3. Encode and Calculate Sentiment"
   ]
  },
  {
   "cell_type": "code",
   "execution_count": 9,
   "id": "cc27ac24-13ec-4c38-8be8-0f52d0413973",
   "metadata": {},
   "outputs": [],
   "source": [
    "tokens = tokenizer.encode(\"Nadzmi has the worst fart! It's the stinkiest and most busuk fart ever\", return_tensors='pt')"
   ]
  },
  {
   "cell_type": "code",
   "execution_count": 21,
   "id": "71f0b815-e2eb-4b06-8eaf-934b146d5184",
   "metadata": {},
   "outputs": [
    {
     "data": {
      "text/plain": [
       "tensor([[  101, 12145, 75520, 10438, 10103, 43060, 12218, 10123,   106, 10197,\n",
       "           112,   161, 10103, 85270, 58476, 14324, 10110, 10889, 15952, 12721,\n",
       "         12218, 10123, 15765,   102]])"
      ]
     },
     "execution_count": 21,
     "metadata": {},
     "output_type": "execute_result"
    }
   ],
   "source": [
    "tokens"
   ]
  },
  {
   "cell_type": "code",
   "execution_count": 22,
   "id": "389033f0-ee32-4cdd-9ff8-cc962cd006cd",
   "metadata": {},
   "outputs": [
    {
     "data": {
      "text/plain": [
       "\"[CLS] nadzmi has the worst fart! it's the stinkiest and most busuk fart ever [SEP]\""
      ]
     },
     "execution_count": 22,
     "metadata": {},
     "output_type": "execute_result"
    }
   ],
   "source": [
    "tokenizer.decode(tokens[0])"
   ]
  },
  {
   "cell_type": "code",
   "execution_count": 25,
   "id": "49ea456f-69f6-4a53-862b-399a91d8e407",
   "metadata": {},
   "outputs": [],
   "source": [
    "result = model(tokens)"
   ]
  },
  {
   "cell_type": "code",
   "execution_count": 39,
   "id": "41426a1e-d2c6-4373-b289-a2e2c9e59024",
   "metadata": {},
   "outputs": [
    {
     "data": {
      "text/plain": [
       "tensor([[ 4.1260,  1.5368, -0.5114, -2.6177, -1.8860]],\n",
       "       grad_fn=<AddmmBackward0>)"
      ]
     },
     "execution_count": 39,
     "metadata": {},
     "output_type": "execute_result"
    }
   ],
   "source": [
    "result.logits"
   ]
  },
  {
   "cell_type": "code",
   "execution_count": 42,
   "id": "baec952e-1bc1-426a-9f5a-af68dbbfa245",
   "metadata": {},
   "outputs": [
    {
     "data": {
      "text/plain": [
       "tensor(1)"
      ]
     },
     "execution_count": 42,
     "metadata": {},
     "output_type": "execute_result"
    }
   ],
   "source": [
    "torch.argmax(result.logits) + 1"
   ]
  },
  {
   "cell_type": "code",
   "execution_count": 43,
   "id": "4dc71d95-6e5f-48ea-9d15-1fcde4c2b8f7",
   "metadata": {},
   "outputs": [
    {
     "data": {
      "text/plain": [
       "tensor(1)"
      ]
     },
     "execution_count": 43,
     "metadata": {},
     "output_type": "execute_result"
    }
   ],
   "source": [
    "torch.argmax(result[0]) + 1"
   ]
  },
  {
   "cell_type": "code",
   "execution_count": 44,
   "id": "64da1f50-4837-4cb4-b37b-a903a751a4e9",
   "metadata": {},
   "outputs": [
    {
     "data": {
      "text/plain": [
       "tensor(5)"
      ]
     },
     "execution_count": 44,
     "metadata": {},
     "output_type": "execute_result"
    }
   ],
   "source": [
    "# Try another string\n",
    "tokens = tokenizer.encode(\"She is as pretty as the moon!\", return_tensors='pt')\n",
    "result = model(tokens)\n",
    "torch.argmax(result.logits) + 1"
   ]
  },
  {
   "cell_type": "code",
   "execution_count": 65,
   "id": "8b3441cd-d99c-4e7a-bf03-fe5f1bcd4aaa",
   "metadata": {},
   "outputs": [
    {
     "data": {
      "text/plain": [
       "tensor(3)"
      ]
     },
     "execution_count": 65,
     "metadata": {},
     "output_type": "execute_result"
    }
   ],
   "source": [
    "# Try another string\n",
    "tokens = tokenizer.encode(\"It is meh\", return_tensors='pt')\n",
    "result = model(tokens)\n",
    "torch.argmax(result.logits) + 1"
   ]
  },
  {
   "cell_type": "markdown",
   "id": "4a71ef7b-bf9b-4b02-9f88-8a0b12bf9360",
   "metadata": {},
   "source": [
    "## 4. Collect Reviews"
   ]
  },
  {
   "cell_type": "markdown",
   "id": "957b7acc-7067-46b6-a811-e67f030556fc",
   "metadata": {},
   "source": [
    "## 5. Load Reviews into DataFrame"
   ]
  },
  {
   "cell_type": "code",
   "execution_count": null,
   "id": "ee8d0a49-c7cb-4ed3-b3d6-0b951612fe1a",
   "metadata": {},
   "outputs": [],
   "source": []
  }
 ],
 "metadata": {
  "kernelspec": {
   "display_name": "Python 3 (ipykernel)",
   "language": "python",
   "name": "python3"
  },
  "language_info": {
   "codemirror_mode": {
    "name": "ipython",
    "version": 3
   },
   "file_extension": ".py",
   "mimetype": "text/x-python",
   "name": "python",
   "nbconvert_exporter": "python",
   "pygments_lexer": "ipython3",
   "version": "3.9.13"
  }
 },
 "nbformat": 4,
 "nbformat_minor": 5
}
